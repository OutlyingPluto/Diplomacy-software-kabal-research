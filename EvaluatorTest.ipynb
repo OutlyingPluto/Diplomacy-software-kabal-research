{
 "cells": [
  {
   "cell_type": "code",
   "execution_count": 1,
   "metadata": {},
   "outputs": [],
   "source": [
    "import pickle\n",
    "from functools import partial\n",
    "from geopy.geocoders import Nominatim\n",
    "import spacy\n",
    "\n",
    "nlp = spacy.load(\"en_core_web_sm\")"
   ]
  },
  {
   "cell_type": "code",
   "execution_count": 2,
   "metadata": {},
   "outputs": [],
   "source": [
    "countries = [\"Singapore\", \"UK\", \"US\", \"India\"]"
   ]
  },
  {
   "cell_type": "markdown",
   "metadata": {},
   "source": [
    "## Get results"
   ]
  },
  {
   "cell_type": "markdown",
   "metadata": {},
   "source": [
    "The input is going to be the risk scores for the bilateral relations between all countries."
   ]
  },
  {
   "cell_type": "code",
   "execution_count": 3,
   "metadata": {},
   "outputs": [
    {
     "name": "stdout",
     "output_type": "stream",
     "text": [
      "This is the relations between Singapore and UK\n",
      "This is the relations between Singapore and US\n",
      "This is the relations between Singapore and India\n",
      "This is the relations between UK and US\n",
      "This is the relations between UK and India\n",
      "This is the relations between US and India\n"
     ]
    }
   ],
   "source": [
    "RelationsPred = []\n",
    "\n",
    "for i in range(len(countries)):\n",
    "    for j in range(len(countries) - i - 1):\n",
    "        print(f\"This is the relations between {countries[i]} and {countries[j + i + 1]}\")\n",
    "        RelationsPred.append(\"\"\"The risk score\"\"\")"
   ]
  },
  {
   "cell_type": "markdown",
   "metadata": {},
   "source": [
    "## Get actual"
   ]
  },
  {
   "cell_type": "markdown",
   "metadata": {},
   "source": [
    "To do this look for:\n",
    "- Get risk dimension: political or economic\n",
    "- Articles talking about international events (Identify the countries involved)\n",
    "- Extract the risk score"
   ]
  },
  {
   "cell_type": "markdown",
   "metadata": {},
   "source": [
    "### Process articles"
   ]
  },
  {
   "cell_type": "code",
   "execution_count": 18,
   "metadata": {},
   "outputs": [],
   "source": [
    "def InternationalDomestic(article):\n",
    "    doc = nlp(article)\n",
    "\n",
    "    places = []\n",
    "\n",
    "    for ent in doc.ents:\n",
    "        if ent.label_ == \"GPE\" :\n",
    "            places.append(ent.text)\n",
    "\n",
    "    geolocator = Nominatim(user_agent=\"diplomacy-software\")\n",
    "\n",
    "    geocode = partial(geolocator.geocode, language=\"en\")\n",
    "\n",
    "    CountriesFound = {}\n",
    "\n",
    "    for place in places:\n",
    "        try:\n",
    "            country = geocode(place)[0].split(',')[-1].strip()\n",
    "\n",
    "            if country not in CountriesFound:\n",
    "                CountriesFound[country] = 1\n",
    "            else:\n",
    "                CountriesFound[country] += 1\n",
    "\n",
    "        except TypeError:\n",
    "            pass\n",
    "\n",
    "    print(CountriesFound)\n",
    "\n",
    "    total = sum(list(CountriesFound.values()))\n",
    "\n",
    "    try:\n",
    "        threshold = total / len(CountriesFound)\n",
    "    except:\n",
    "        print(\"This article doesn't \")\n",
    "        return []\n",
    "\n",
    "    relevant = []\n",
    "\n",
    "    for country in CountriesFound:\n",
    "        if CountriesFound[country] > threshold:\n",
    "            relevant.append(country)\n",
    "\n",
    "    print(relevant)\n",
    "\n",
    "    return relevant"
   ]
  },
  {
   "cell_type": "code",
   "execution_count": null,
   "metadata": {},
   "outputs": [],
   "source": [
    "def RiskDimension(title, article):\n",
    "    pass"
   ]
  },
  {
   "cell_type": "code",
   "execution_count": 19,
   "metadata": {},
   "outputs": [],
   "source": [
    "def ProcessArticle(title, article):\n",
    "    print(\"Title : \", title)\n",
    "\n",
    "    countriesFound = InternationalDomestic(article)\n",
    "    \n",
    "    if len(countriesFound) < 2:\n",
    "        return None\n",
    "    \n",
    "    Dim = RiskDimension(title, article)\n",
    "    \n",
    "    if Dim != \"politics\" and Dim != \"economics\":\n",
    "        return None\n",
    "    \n",
    "    # Get the risk score here\n",
    "\n",
    "    # Write the required data into the database\n",
    "    \n",
    "    print(\"===================== Next Article =====================\")"
   ]
  },
  {
   "cell_type": "code",
   "execution_count": 20,
   "metadata": {},
   "outputs": [
    {
     "name": "stdout",
     "output_type": "stream",
     "text": [
      "Title :  How Interpol traced the identity of ‘the woman with the flower tattoo’\n",
      "{'Belgium': 6, 'United Kingdom': 3, 'Central African Republic': 1}\n",
      "['Belgium']\n",
      "===================== Next Article =====================\n",
      "Title :  LiveIsrael-Hamas war live: Israel issues fresh warning to leave Khan Younis; report of 26 killed\n",
      "{'Israel': 19, 'Palestinian Territories': 34, 'Egypt': 2, 'Jordan': 2, 'Bahrain': 4, 'Czechia': 3, 'Haiti': 1, 'India': 1, 'Vatican City': 1}\n",
      "['Israel', 'Palestinian Territories']\n",
      "===================== Next Article =====================\n",
      "Title :  IDF evidence so far falls well short of al-Shifa hospital being Hamas HQ\n",
      "{'Palestinian Territories': 3, 'Israel': 11, 'United States': 2, 'Central African Republic': 1, 'Germany': 1, 'Czechia': 2, 'Iraq': 1}\n",
      "['Israel']\n",
      "===================== Next Article =====================\n",
      "Title :  Israeli forces ‘determined to advance’, says military – as it happened\n",
      "{'Palestinian Territories': 71, 'Haiti': 3, 'India': 3, 'Israel': 33, 'Czechia': 6, 'Bahrain': 2, 'Vatican City': 2, 'Brunei': 1, 'Indonesia': 1, 'Malaysia': 1, 'United States': 4, 'Egypt': 1}\n",
      "['Palestinian Territories', 'Israel']\n",
      "===================== Next Article =====================\n",
      "Title :  Philippines earthquake: authorities report deaths from falling debris\n",
      "{'Philippines': 2, 'Brazil': 1, 'Japan': 1}\n",
      "['Philippines']\n",
      "===================== Next Article =====================\n",
      "Title :  What happened in the Russia-Ukraine war this week? Catch up with the must-read news and analysis\n",
      "{'Ukraine': 19, 'Russia': 9, 'Central African Republic': 2, 'Czechia': 2, 'Italy': 1}\n",
      "['Ukraine', 'Russia']\n",
      "===================== Next Article =====================\n",
      "Title :  Ukrainian teenagers win peace prize for developing apps to help young refugees\n",
      "{'United Kingdom': 3, 'Ukraine': 3, 'Central African Republic': 3, 'United States': 1, 'Czechia': 1}\n",
      "['United Kingdom', 'Ukraine', 'Central African Republic']\n",
      "===================== Next Article =====================\n",
      "Title :  ‘We didn’t hesitate’: how Vogue Ukraine got itself on a war footing\n",
      "{'Ukraine': 12, 'Italy': 1, 'Russia': 1, 'Czechia': 3, 'Canada': 1, 'Germany': 1, 'United States': 1, 'India': 1}\n",
      "['Ukraine', 'Czechia']\n",
      "===================== Next Article =====================\n",
      "Title :  Ukrainian military reports ‘successful operations’ on Dnipro River’s east bank\n",
      "{'Russia': 11, 'Ukraine': 15, 'Czechia': 2, 'United States': 1}\n",
      "['Russia', 'Ukraine']\n",
      "===================== Next Article =====================\n",
      "Title :  Russia-Ukraine war at a glance: what we know on day 633\n",
      "{'Ukraine': 16, 'Czechia': 2, 'United States': 2, 'Russia': 3, 'Moldova': 1}\n",
      "['Ukraine']\n",
      "===================== Next Article =====================\n",
      "Title :  OpenAI fires co-founder and CEO Sam Altman for allegedly lying to company board\n",
      "{'United States': 13, 'Bosnia and Herzegovina': 2}\n",
      "['United States']\n",
      "===================== Next Article =====================\n",
      "Title :  Apple, Disney and IBM to pause ads on X after antisemitic Elon Musk tweet\n",
      "{'Netherlands': 1}\n",
      "[]\n",
      "===================== Next Article =====================\n",
      "Title :  Sean ‘Diddy’ Combs and singer Cassie settle abuse lawsuit one day after filing\n",
      "{'United States': 8, 'Czechia': 1}\n",
      "['United States']\n",
      "===================== Next Article =====================\n",
      "Title :  Australian naval divers injured after being subjected to Chinese warship’s sonar pulses\n",
      "{'Japan': 1, 'Australia': 2, 'China': 4, 'Central African Republic': 1, 'Czechia': 1, 'United States': 2}\n",
      "['Australia', 'China', 'United States']\n",
      "===================== Next Article =====================\n",
      "Title :  Too many taking sides in this conflict miss the true nature of Hamas – and Netanyahu\n",
      "{'Israel': 11, 'Palestinian Territories': 11, 'Qatar': 1, 'Czechia': 1, 'Saudi Arabia': 1, 'United States': 1, 'Belgium': 1, 'United Kingdom': 1}\n",
      "['Israel', 'Palestinian Territories']\n",
      "===================== Next Article =====================\n",
      "Title :  Everton’s deduction is a tremor – City and Chelsea may face the earthquake\n",
      "{'United States': 3, 'United Kingdom': 5}\n",
      "['United Kingdom']\n",
      "===================== Next Article =====================\n",
      "Title :  David Cameron ‘wants to unlock billions of dollars for foreign aid’\n",
      "{'Central African Republic': 5, 'United Kingdom': 1, 'Zambia': 1}\n",
      "['Central African Republic']\n",
      "===================== Next Article =====================\n",
      "Title :  Mike Johnson to publicly release 44,000 hours of sensitive January 6 footage\n",
      "{'Czechia': 3, 'United States': 1}\n",
      "['Czechia']\n",
      "===================== Next Article =====================\n",
      "Title :  Most commentedTim Dowling: my wife says I have one job. If only that was the case …\n",
      "{}\n"
     ]
    },
    {
     "ename": "ZeroDivisionError",
     "evalue": "division by zero",
     "output_type": "error",
     "traceback": [
      "\u001b[1;31m---------------------------------------------------------------------------\u001b[0m",
      "\u001b[1;31mZeroDivisionError\u001b[0m                         Traceback (most recent call last)",
      "\u001b[1;32mc:\\Work\\Programming\\Hackathons\\Diplomacy software\\EvaluatorTest.ipynb Cell 11\u001b[0m line \u001b[0;36m5\n\u001b[0;32m      <a href='vscode-notebook-cell:/c%3A/Work/Programming/Hackathons/Diplomacy%20software/EvaluatorTest.ipynb#X12sZmlsZQ%3D%3D?line=1'>2</a>\u001b[0m     articles \u001b[39m=\u001b[39m pickle\u001b[39m.\u001b[39mload(f)\n\u001b[0;32m      <a href='vscode-notebook-cell:/c%3A/Work/Programming/Hackathons/Diplomacy%20software/EvaluatorTest.ipynb#X12sZmlsZQ%3D%3D?line=3'>4</a>\u001b[0m \u001b[39mfor\u001b[39;00m title, article \u001b[39min\u001b[39;00m articles\u001b[39m.\u001b[39mitems():\n\u001b[1;32m----> <a href='vscode-notebook-cell:/c%3A/Work/Programming/Hackathons/Diplomacy%20software/EvaluatorTest.ipynb#X12sZmlsZQ%3D%3D?line=4'>5</a>\u001b[0m     ProcessArticle(title, article)\n",
      "\u001b[1;32mc:\\Work\\Programming\\Hackathons\\Diplomacy software\\EvaluatorTest.ipynb Cell 11\u001b[0m line \u001b[0;36m3\n\u001b[0;32m      <a href='vscode-notebook-cell:/c%3A/Work/Programming/Hackathons/Diplomacy%20software/EvaluatorTest.ipynb#X12sZmlsZQ%3D%3D?line=0'>1</a>\u001b[0m \u001b[39mdef\u001b[39;00m \u001b[39mProcessArticle\u001b[39m(title, article):\n\u001b[0;32m      <a href='vscode-notebook-cell:/c%3A/Work/Programming/Hackathons/Diplomacy%20software/EvaluatorTest.ipynb#X12sZmlsZQ%3D%3D?line=1'>2</a>\u001b[0m     \u001b[39mprint\u001b[39m(\u001b[39m\"\u001b[39m\u001b[39mTitle : \u001b[39m\u001b[39m\"\u001b[39m, title)\n\u001b[1;32m----> <a href='vscode-notebook-cell:/c%3A/Work/Programming/Hackathons/Diplomacy%20software/EvaluatorTest.ipynb#X12sZmlsZQ%3D%3D?line=2'>3</a>\u001b[0m     InternationalDomestic(article)\n\u001b[0;32m      <a href='vscode-notebook-cell:/c%3A/Work/Programming/Hackathons/Diplomacy%20software/EvaluatorTest.ipynb#X12sZmlsZQ%3D%3D?line=3'>4</a>\u001b[0m     \u001b[39mprint\u001b[39m(\u001b[39m\"\u001b[39m\u001b[39m===================== Next Article =====================\u001b[39m\u001b[39m\"\u001b[39m)\n",
      "\u001b[1;32mc:\\Work\\Programming\\Hackathons\\Diplomacy software\\EvaluatorTest.ipynb Cell 11\u001b[0m line \u001b[0;36m3\n\u001b[0;32m     <a href='vscode-notebook-cell:/c%3A/Work/Programming/Hackathons/Diplomacy%20software/EvaluatorTest.ipynb#X12sZmlsZQ%3D%3D?line=27'>28</a>\u001b[0m \u001b[39mprint\u001b[39m(CountriesFound)\n\u001b[0;32m     <a href='vscode-notebook-cell:/c%3A/Work/Programming/Hackathons/Diplomacy%20software/EvaluatorTest.ipynb#X12sZmlsZQ%3D%3D?line=29'>30</a>\u001b[0m total \u001b[39m=\u001b[39m \u001b[39msum\u001b[39m(\u001b[39mlist\u001b[39m(CountriesFound\u001b[39m.\u001b[39mvalues()))\n\u001b[1;32m---> <a href='vscode-notebook-cell:/c%3A/Work/Programming/Hackathons/Diplomacy%20software/EvaluatorTest.ipynb#X12sZmlsZQ%3D%3D?line=31'>32</a>\u001b[0m threshold \u001b[39m=\u001b[39m total \u001b[39m/\u001b[39;49m \u001b[39mlen\u001b[39;49m(CountriesFound)\n\u001b[0;32m     <a href='vscode-notebook-cell:/c%3A/Work/Programming/Hackathons/Diplomacy%20software/EvaluatorTest.ipynb#X12sZmlsZQ%3D%3D?line=33'>34</a>\u001b[0m relevant \u001b[39m=\u001b[39m []\n\u001b[0;32m     <a href='vscode-notebook-cell:/c%3A/Work/Programming/Hackathons/Diplomacy%20software/EvaluatorTest.ipynb#X12sZmlsZQ%3D%3D?line=35'>36</a>\u001b[0m \u001b[39mfor\u001b[39;00m country \u001b[39min\u001b[39;00m CountriesFound:\n",
      "\u001b[1;31mZeroDivisionError\u001b[0m: division by zero"
     ]
    }
   ],
   "source": [
    "with open(\"Articles.bin\", \"rb\") as f:\n",
    "    articles = pickle.load(f)\n",
    "\n",
    "for title, article in articles.items():\n",
    "    ProcessArticle(title, article)"
   ]
  },
  {
   "cell_type": "code",
   "execution_count": 23,
   "metadata": {},
   "outputs": [
    {
     "data": {
      "text/plain": [
       "'For three decades, her body has lain far from the streets of Cardiff where she was known as a vibrant, kind-hearted, if troubled, young woman.\\nEarlier this year, thanks to a groundbreaking cross-border operation, she was given an identity of sorts – the woman with the flower tattoo – as police teams across three European countries and the global law enforcement force Interpol tried to get to the bottom of her murder and 21 others.\\nNow, finally, she has her real name back. The woman whose body was found nudging up against a grate in an Antwerp river in 1992 was Rita Roberts, a 31-year-old from the Grangetown area of the Welsh capital whose last known contact with her British family was a postcard sent shortly before she was stabbed to death.\\nHer family and friends can mourn, Rita’s story can start to be told, and police in Belgium will look for new leads that may yet lead them to the killer.\\nSpeaking at the end of a week when the woman with the flower tattoo made headlines around the world, Interpol’s François-Xavier Laurent, said he was glad that at least one of the 22 families of the Operation Identify Me women had some sort of answer.\\nLaurent said: “We did this campaign to provide closure and to give a name back to the victims. More than anything, we want to bring news, even if it’s sad news. I don’t think there’s anything worse than just waiting to get some information.\\n“I’m not trying to put myself in the shoes of missing persons’ families, but I think that at some point knowing what has happened gives more relief than never knowing. Even if it’s 31 years after the moment Rita disappeared, I think the family is at least grateful to know what happened to her and they can start their grieving process and hopefully maybe get some answers in the future about why and how she was murdered.”\\nOperation Identify Me was launched in May by the Belgian, Dutch and German police and Interpol, releasing details of the cases that would normally only be available to law enforcement agencies and giving grabby nicknames that would not be out of place in a thriller: the woman in the well, the body in the bog, the woman in man’s clothing and so on.\\nThe body of the woman with the flower tattoo was found in the river near a sports and concert venue on 3 June 1992. She had been in the water for some time – they could only say she was aged 20-50 – and had suffered at least one stab wound. A major clue was the distinctive tattoo on her left forearm – apparently a black rose with green leaves and “R’Nick” written underneath.\\nPolice appealed for help at the time but she was not identified and the trail for her killer went cold.\\nIn May this year Operation Identify Me was launched, following a Dutch case in which a woman’s body was found in 1999 in an industrial waste container, partly encased in concrete.\\nWithin days, the operation had a hit. A relative of Rita Roberts saw the image of the tattoo on a news website and alerted the authorities. They said Roberts had moved from Cardiff to Antwerp in February 1992. She had sent a postcode in May 1992 and not been heard of since.\\n“There are some messages, including Rita’s that straight away give you chills,” said Laurent. “You have a lot of details, a lot of information from the victim’s family that were not made public. You feel everything is clicking. Straight away when we had the information from Rita’s family, we felt something was happening here.”\\nHe said the Belgian police should not be blamed for not identifying Roberts sooner. “It’s always easy to think 30 years later, this country should have done that. But there was no internet, DNA work was in its beginnings. The Belgian forensic institute started in 1993, the year after the body was discovered. Countries were not necessarily collaborating in terms of police information. Everything was on paper.”\\nIt took six months before the police were happy to go public with Roberts’ identity this week. Her siblings, who are based in Cardiff and the north-east of England, issued a statement via Durham police, describing Roberts as “a beautiful person” who adored travelling. They added: “Whilst the news has been difficult to process, we are incredibly grateful to have uncovered what happened to Rita.”\\nFriends of Roberts from Cardiff joined in the tributes. “I can’t believe it,” said one. “Rita was a fabulous person … tough but so kind-hearted. I’m so sorry she died that way.”\\nRoberts was born in 1960 and lived near the docks, at that time a challenging neighbourhood. There appears to be no mention of her disappearance in back issues of the South Wales Echo, but there are two reports of court appearances by a woman called Rita Roberts whose age and other details match the missing woman. Two date from the 1980s and one from November 1991, just a few months before she went to Belgium.\\nThe Antwerp public prosecutor’s office said she lived in the city for a few months and was never reported missing to the Belgian police. A spokesperson said she had “probably not” been the victim of a sexual assault. Her body remained in Antwerp. The prosecutor’s office said it knew she had a criminal record before it went public with her name.\\nAccording to a report from the University of Portsmouth’s Centre for the Study of Missing Persons, an average of 600 people in the UK go missing abroad each year.\\n“The overwhelming majority are found safe and well,” said Martha McBrier, the helplines manager for the charity Missing People. She praised Operation Identify Me’s work. “The not knowing is the worst thing. It never gets better, the feelings remain almost as raw.”\\nEven as they grieve, members of Roberts’ family have paused to remember relatives of the other Identify Me women. One said: “There are 21 other unidentified women who need to be reunited with their families and we very much hope that can be achieved.”'"
      ]
     },
     "execution_count": 23,
     "metadata": {},
     "output_type": "execute_result"
    }
   ],
   "source": [
    "articles[\"How Interpol traced the identity of ‘the woman with the flower tattoo’\"]"
   ]
  },
  {
   "cell_type": "markdown",
   "metadata": {},
   "source": [
    "## Comparing"
   ]
  },
  {
   "cell_type": "code",
   "execution_count": 18,
   "metadata": {},
   "outputs": [],
   "source": [
    "RelationsPred = [1,2,3]\n",
    "RelationsActual = [2,3,4]"
   ]
  },
  {
   "cell_type": "code",
   "execution_count": 19,
   "metadata": {},
   "outputs": [],
   "source": [
    "def Magnitude(vector):\n",
    "    sum = 0\n",
    "\n",
    "    for i in vector:\n",
    "        sum += i ** 2\n",
    "    \n",
    "    return sum ** 0.5"
   ]
  },
  {
   "cell_type": "code",
   "execution_count": 21,
   "metadata": {},
   "outputs": [
    {
     "name": "stdout",
     "output_type": "stream",
     "text": [
      "32.163376045133845\n"
     ]
    }
   ],
   "source": [
    "Error = [ abs(RelationsPred[i] - RelationsActual[i]) for i in range(len(RelationsActual)) ]\n",
    "PercentError = ( Magnitude(Error) / Magnitude(RelationsActual) ) * 100\n",
    "print(PercentError)"
   ]
  },
  {
   "cell_type": "code",
   "execution_count": null,
   "metadata": {},
   "outputs": [],
   "source": []
  }
 ],
 "metadata": {
  "kernelspec": {
   "display_name": "Python 3",
   "language": "python",
   "name": "python3"
  },
  "language_info": {
   "codemirror_mode": {
    "name": "ipython",
    "version": 3
   },
   "file_extension": ".py",
   "mimetype": "text/x-python",
   "name": "python",
   "nbconvert_exporter": "python",
   "pygments_lexer": "ipython3",
   "version": "3.11.4"
  }
 },
 "nbformat": 4,
 "nbformat_minor": 2
}
