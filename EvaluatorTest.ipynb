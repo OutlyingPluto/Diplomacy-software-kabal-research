{
 "cells": [
  {
   "cell_type": "code",
   "execution_count": null,
   "metadata": {},
   "outputs": [],
   "source": [
    "import pickle"
   ]
  },
  {
   "cell_type": "code",
   "execution_count": 1,
   "metadata": {},
   "outputs": [],
   "source": [
    "countries = [\"Singapore\", \"UK\", \"US\", \"India\"]"
   ]
  },
  {
   "cell_type": "markdown",
   "metadata": {},
   "source": [
    "## Get results"
   ]
  },
  {
   "cell_type": "markdown",
   "metadata": {},
   "source": [
    "The input is going to be the risk scores for the bilateral relations between all countries."
   ]
  },
  {
   "cell_type": "code",
   "execution_count": 2,
   "metadata": {},
   "outputs": [
    {
     "name": "stdout",
     "output_type": "stream",
     "text": [
      "This is the relations between Singapore and UK\n",
      "This is the relations between Singapore and US\n",
      "This is the relations between Singapore and India\n",
      "This is the relations between UK and US\n",
      "This is the relations between UK and India\n",
      "This is the relations between US and India\n"
     ]
    }
   ],
   "source": [
    "RelationsPred = []\n",
    "\n",
    "for i in range(len(countries)):\n",
    "    for j in range(len(countries) - i - 1):\n",
    "        print(f\"This is the relations between {countries[i]} and {countries[j + i + 1]}\")\n",
    "        RelationsPred.append(\"\"\"The risk score\"\"\")"
   ]
  },
  {
   "cell_type": "markdown",
   "metadata": {},
   "source": [
    "## Get actual"
   ]
  },
  {
   "cell_type": "markdown",
   "metadata": {},
   "source": [
    "To do this look for:\n",
    "- Get risk dimension: political or economic\n",
    "- Articles talking about international events (Identify the countries involved)\n",
    "- Extract the risk score"
   ]
  },
  {
   "cell_type": "markdown",
   "metadata": {},
   "source": [
    "### Process articles"
   ]
  },
  {
   "cell_type": "code",
   "execution_count": null,
   "metadata": {},
   "outputs": [],
   "source": [
    "def ProcessArticle(title, article):\n",
    "    "
   ]
  },
  {
   "cell_type": "code",
   "execution_count": null,
   "metadata": {},
   "outputs": [],
   "source": [
    "with open(\"Articles.bin\", \"rb\") as f:\n",
    "    articles = pickle.load(f)\n",
    "\n",
    "for title, article in articles.items():\n",
    "    ProcessArticle(title, article)"
   ]
  },
  {
   "cell_type": "code",
   "execution_count": null,
   "metadata": {},
   "outputs": [],
   "source": [
    "RelationsActual = []"
   ]
  },
  {
   "cell_type": "markdown",
   "metadata": {},
   "source": [
    "## Comparing"
   ]
  },
  {
   "cell_type": "code",
   "execution_count": 18,
   "metadata": {},
   "outputs": [],
   "source": [
    "RelationsPred = [1,2,3]\n",
    "RelationsActual = [2,3,4]"
   ]
  },
  {
   "cell_type": "code",
   "execution_count": 19,
   "metadata": {},
   "outputs": [],
   "source": [
    "def Magnitude(vector):\n",
    "    sum = 0\n",
    "\n",
    "    for i in vector:\n",
    "        sum += i ** 2\n",
    "    \n",
    "    return sum ** 0.5"
   ]
  },
  {
   "cell_type": "code",
   "execution_count": 21,
   "metadata": {},
   "outputs": [
    {
     "name": "stdout",
     "output_type": "stream",
     "text": [
      "32.163376045133845\n"
     ]
    }
   ],
   "source": [
    "Error = [ abs(RelationsPred[i] - RelationsActual[i]) for i in range(len(RelationsActual)) ]\n",
    "PercentError = ( Magnitude(Error) / Magnitude(RelationsActual) ) * 100\n",
    "print(PercentError)"
   ]
  },
  {
   "cell_type": "code",
   "execution_count": null,
   "metadata": {},
   "outputs": [],
   "source": []
  }
 ],
 "metadata": {
  "kernelspec": {
   "display_name": "Python 3",
   "language": "python",
   "name": "python3"
  },
  "language_info": {
   "codemirror_mode": {
    "name": "ipython",
    "version": 3
   },
   "file_extension": ".py",
   "mimetype": "text/x-python",
   "name": "python",
   "nbconvert_exporter": "python",
   "pygments_lexer": "ipython3",
   "version": "3.11.4"
  }
 },
 "nbformat": 4,
 "nbformat_minor": 2
}
