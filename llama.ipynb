{
 "cells": [
  {
   "cell_type": "code",
   "execution_count": 5,
   "metadata": {},
   "outputs": [],
   "source": [
    "from transformers import AutoConfig, AutoModel, LlamaConfig\n",
    "import transformers\n",
    "import torch"
   ]
  },
  {
   "cell_type": "code",
   "execution_count": 6,
   "metadata": {},
   "outputs": [
    {
     "ename": "ValueError",
     "evalue": "The config you are passing has a `model_type` attribute that is not consistent with the model type you passed (config has llama and you passed C://Users//sures//Downloads//llama-main//llama-main//llama-2-13b. Fix one of those so they match!",
     "output_type": "error",
     "traceback": [
      "\u001b[1;31m---------------------------------------------------------------------------\u001b[0m",
      "\u001b[1;31mValueError\u001b[0m                                Traceback (most recent call last)",
      "\u001b[1;32mc:\\Work\\Programming\\Hackathons\\Diplomacy software\\llama.ipynb Cell 2\u001b[0m line \u001b[0;36m2\n\u001b[0;32m      <a href='vscode-notebook-cell:/c%3A/Work/Programming/Hackathons/Diplomacy%20software/llama.ipynb#W1sZmlsZQ%3D%3D?line=0'>1</a>\u001b[0m model \u001b[39m=\u001b[39m \u001b[39m\"\u001b[39m\u001b[39mC://Users//sures//Downloads//llama-main//llama-main//llama-2-13b\u001b[39m\u001b[39m\"\u001b[39m\n\u001b[1;32m----> <a href='vscode-notebook-cell:/c%3A/Work/Programming/Hackathons/Diplomacy%20software/llama.ipynb#W1sZmlsZQ%3D%3D?line=1'>2</a>\u001b[0m AutoConfig\u001b[39m.\u001b[39;49mregister(model, LlamaConfig)\n\u001b[0;32m      <a href='vscode-notebook-cell:/c%3A/Work/Programming/Hackathons/Diplomacy%20software/llama.ipynb#W1sZmlsZQ%3D%3D?line=2'>3</a>\u001b[0m \u001b[39m# tokenizer = AutoModel.from_pretrained(model)\u001b[39;00m\n",
      "File \u001b[1;32m~\\AppData\\Roaming\\Python\\Python311\\site-packages\\transformers\\models\\auto\\configuration_auto.py:1089\u001b[0m, in \u001b[0;36mAutoConfig.register\u001b[1;34m(model_type, config, exist_ok)\u001b[0m\n\u001b[0;32m   1081\u001b[0m \u001b[39m\u001b[39m\u001b[39m\"\"\"\u001b[39;00m\n\u001b[0;32m   1082\u001b[0m \u001b[39mRegister a new configuration for this class.\u001b[39;00m\n\u001b[0;32m   1083\u001b[0m \n\u001b[1;32m   (...)\u001b[0m\n\u001b[0;32m   1086\u001b[0m \u001b[39m    config ([`PretrainedConfig`]): The config to register.\u001b[39;00m\n\u001b[0;32m   1087\u001b[0m \u001b[39m\"\"\"\u001b[39;00m\n\u001b[0;32m   1088\u001b[0m \u001b[39mif\u001b[39;00m \u001b[39missubclass\u001b[39m(config, PretrainedConfig) \u001b[39mand\u001b[39;00m config\u001b[39m.\u001b[39mmodel_type \u001b[39m!=\u001b[39m model_type:\n\u001b[1;32m-> 1089\u001b[0m     \u001b[39mraise\u001b[39;00m \u001b[39mValueError\u001b[39;00m(\n\u001b[0;32m   1090\u001b[0m         \u001b[39m\"\u001b[39m\u001b[39mThe config you are passing has a `model_type` attribute that is not consistent with the model type \u001b[39m\u001b[39m\"\u001b[39m\n\u001b[0;32m   1091\u001b[0m         \u001b[39mf\u001b[39m\u001b[39m\"\u001b[39m\u001b[39myou passed (config has \u001b[39m\u001b[39m{\u001b[39;00mconfig\u001b[39m.\u001b[39mmodel_type\u001b[39m}\u001b[39;00m\u001b[39m and you passed \u001b[39m\u001b[39m{\u001b[39;00mmodel_type\u001b[39m}\u001b[39;00m\u001b[39m. Fix one of those so they \u001b[39m\u001b[39m\"\u001b[39m\n\u001b[0;32m   1092\u001b[0m         \u001b[39m\"\u001b[39m\u001b[39mmatch!\u001b[39m\u001b[39m\"\u001b[39m\n\u001b[0;32m   1093\u001b[0m     )\n\u001b[0;32m   1094\u001b[0m CONFIG_MAPPING\u001b[39m.\u001b[39mregister(model_type, config, exist_ok\u001b[39m=\u001b[39mexist_ok)\n",
      "\u001b[1;31mValueError\u001b[0m: The config you are passing has a `model_type` attribute that is not consistent with the model type you passed (config has llama and you passed C://Users//sures//Downloads//llama-main//llama-main//llama-2-13b. Fix one of those so they match!"
     ]
    }
   ],
   "source": [
    "model = \"C://Users//sures//Downloads//llama-main//llama-main//llama-2-13b\"\n",
    "AutoConfig.register(model, LlamaConfig)\n",
    "# tokenizer = AutoModel.from_pretrained(model)"
   ]
  },
  {
   "cell_type": "code",
   "execution_count": 4,
   "metadata": {},
   "outputs": [
    {
     "ename": "NameError",
     "evalue": "name 'pipeline' is not defined",
     "output_type": "error",
     "traceback": [
      "\u001b[1;31m---------------------------------------------------------------------------\u001b[0m",
      "\u001b[1;31mNameError\u001b[0m                                 Traceback (most recent call last)",
      "\u001b[1;32mc:\\Work\\Programming\\Hackathons\\Diplomacy software\\llama.ipynb Cell 2\u001b[0m line \u001b[0;36m1\n\u001b[1;32m----> <a href='vscode-notebook-cell:/c%3A/Work/Programming/Hackathons/Diplomacy%20software/llama.ipynb#W0sZmlsZQ%3D%3D?line=0'>1</a>\u001b[0m sequences \u001b[39m=\u001b[39m pipeline(\n\u001b[0;32m      <a href='vscode-notebook-cell:/c%3A/Work/Programming/Hackathons/Diplomacy%20software/llama.ipynb#W0sZmlsZQ%3D%3D?line=1'>2</a>\u001b[0m     \u001b[39m'\u001b[39m\u001b[39mI liked \u001b[39m\u001b[39m\"\u001b[39m\u001b[39mBreaking Bad\u001b[39m\u001b[39m\"\u001b[39m\u001b[39m and \u001b[39m\u001b[39m\"\u001b[39m\u001b[39mBand of Brothers\u001b[39m\u001b[39m\"\u001b[39m\u001b[39m. Do you have any recommendations of other shows I might like?\u001b[39m\u001b[39m\\n\u001b[39;00m\u001b[39m'\u001b[39m,\n\u001b[0;32m      <a href='vscode-notebook-cell:/c%3A/Work/Programming/Hackathons/Diplomacy%20software/llama.ipynb#W0sZmlsZQ%3D%3D?line=2'>3</a>\u001b[0m     do_sample\u001b[39m=\u001b[39m\u001b[39mTrue\u001b[39;00m,\n\u001b[0;32m      <a href='vscode-notebook-cell:/c%3A/Work/Programming/Hackathons/Diplomacy%20software/llama.ipynb#W0sZmlsZQ%3D%3D?line=3'>4</a>\u001b[0m     top_k\u001b[39m=\u001b[39m\u001b[39m10\u001b[39m,\n\u001b[0;32m      <a href='vscode-notebook-cell:/c%3A/Work/Programming/Hackathons/Diplomacy%20software/llama.ipynb#W0sZmlsZQ%3D%3D?line=4'>5</a>\u001b[0m     num_return_sequences\u001b[39m=\u001b[39m\u001b[39m1\u001b[39m,\n\u001b[0;32m      <a href='vscode-notebook-cell:/c%3A/Work/Programming/Hackathons/Diplomacy%20software/llama.ipynb#W0sZmlsZQ%3D%3D?line=5'>6</a>\u001b[0m     eos_token_id\u001b[39m=\u001b[39mtokenizer\u001b[39m.\u001b[39meos_token_id,\n\u001b[0;32m      <a href='vscode-notebook-cell:/c%3A/Work/Programming/Hackathons/Diplomacy%20software/llama.ipynb#W0sZmlsZQ%3D%3D?line=6'>7</a>\u001b[0m     max_length\u001b[39m=\u001b[39m\u001b[39m200\u001b[39m,\n\u001b[0;32m      <a href='vscode-notebook-cell:/c%3A/Work/Programming/Hackathons/Diplomacy%20software/llama.ipynb#W0sZmlsZQ%3D%3D?line=7'>8</a>\u001b[0m )\n\u001b[0;32m      <a href='vscode-notebook-cell:/c%3A/Work/Programming/Hackathons/Diplomacy%20software/llama.ipynb#W0sZmlsZQ%3D%3D?line=8'>9</a>\u001b[0m \u001b[39mfor\u001b[39;00m seq \u001b[39min\u001b[39;00m sequences:\n\u001b[0;32m     <a href='vscode-notebook-cell:/c%3A/Work/Programming/Hackathons/Diplomacy%20software/llama.ipynb#W0sZmlsZQ%3D%3D?line=9'>10</a>\u001b[0m     \u001b[39mprint\u001b[39m(\u001b[39mf\u001b[39m\u001b[39m\"\u001b[39m\u001b[39mResult: \u001b[39m\u001b[39m{\u001b[39;00mseq[\u001b[39m'\u001b[39m\u001b[39mgenerated_text\u001b[39m\u001b[39m'\u001b[39m]\u001b[39m}\u001b[39;00m\u001b[39m\"\u001b[39m)\n",
      "\u001b[1;31mNameError\u001b[0m: name 'pipeline' is not defined"
     ]
    }
   ],
   "source": [
    "pipeline = transformers.pipeline(\n",
    "    \"text-generation\",\n",
    "    model=model,\n",
    "    torch_dtype=torch.float16,\n",
    "    device_map=\"auto\",\n",
    ")\n",
    "\n",
    "sequences = pipeline(\n",
    "    'I liked \"Breaking Bad\" and \"Band of Brothers\". Do you have any recommendations of other shows I might like?\\n',\n",
    "    do_sample=True,\n",
    "    top_k=10,\n",
    "    num_return_sequences=1,\n",
    "    eos_token_id=tokenizer.eos_token_id,\n",
    "    max_length=200,\n",
    ")\n",
    "for seq in sequences:\n",
    "    print(f\"Result: {seq['generated_text']}\")"
   ]
  },
  {
   "cell_type": "code",
   "execution_count": null,
   "metadata": {},
   "outputs": [],
   "source": []
  }
 ],
 "metadata": {
  "kernelspec": {
   "display_name": "Python 3",
   "language": "python",
   "name": "python3"
  },
  "language_info": {
   "codemirror_mode": {
    "name": "ipython",
    "version": 3
   },
   "file_extension": ".py",
   "mimetype": "text/x-python",
   "name": "python",
   "nbconvert_exporter": "python",
   "pygments_lexer": "ipython3",
   "version": "3.11.4"
  }
 },
 "nbformat": 4,
 "nbformat_minor": 2
}
