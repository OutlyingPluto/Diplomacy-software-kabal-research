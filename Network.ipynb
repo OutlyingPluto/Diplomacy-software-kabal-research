{
 "cells": [
  {
   "cell_type": "code",
   "execution_count": 36,
   "metadata": {},
   "outputs": [],
   "source": [
    "import pickle\n",
    "from pathlib import Path"
   ]
  },
  {
   "cell_type": "code",
   "execution_count": 43,
   "metadata": {},
   "outputs": [],
   "source": [
    "# Define the classes\n",
    "\n",
    "def classes(code):\n",
    "\n",
    "    high = code[0]\n",
    "\n",
    "    try:\n",
    "        low = int(code[1])\n",
    "    except IndexError:\n",
    "        low = \"\"\n",
    "\n",
    "    if high == \"p\":\n",
    "        if low == \"\":\n",
    "            return \"Political\"\n",
    "        elif low == 1:\n",
    "            return \"War\"\n",
    "        elif low == 2:\n",
    "            return \"Dividedness\"\n",
    "        elif low == 3:\n",
    "            return \"Scandals\"\n",
    "        elif low == 4:\n",
    "            return \"Cultural diplomacy\"\n",
    "        else:\n",
    "            return \"Incorrect code\"\n",
    "    elif high == \"e\":\n",
    "        if low == \"\":\n",
    "            return \"Economic\"\n",
    "        elif low == 1:\n",
    "            return \"Economic instability\"\n",
    "        elif low == 2:\n",
    "            return \"Government policy\"\n",
    "        elif low == 3:\n",
    "            return \"Economic Stagnation\"\n",
    "        else:\n",
    "            return \"Incorrect code\"\n",
    "    else:\n",
    "        return \"Incorrect code\""
   ]
  },
  {
   "cell_type": "code",
   "execution_count": 64,
   "metadata": {},
   "outputs": [],
   "source": [
    "NamedCountries = [\"Singapore\", \"UK\", \"India\", \"US\"]"
   ]
  },
  {
   "cell_type": "code",
   "execution_count": 45,
   "metadata": {},
   "outputs": [],
   "source": [
    "# Create a node: a class that has the behaviour of a node\n",
    "\n",
    "class node:\n",
    "    def __init__(self, country, subclass):\n",
    "        self.country = country\n",
    "        self.subclass = subclass\n",
    "\n",
    "        self.value = 0 # No risk when initialised"
   ]
  },
  {
   "cell_type": "code",
   "execution_count": 46,
   "metadata": {},
   "outputs": [],
   "source": [
    "# Create a class to store bilateral risks\n",
    "\n",
    "class bilateral:\n",
    "    def __init__(self, countries):\n",
    "        self.countries = []\n",
    "\n",
    "        for country in countries:\n",
    "            self.countries.append(country.name)\n",
    "        \n",
    "        self.economic = node(self.countries, classes(\"e\"))\n",
    "        self.political = node(self.countries, classes(\"p\"))\n",
    "\n",
    "        # Weight gives a link from the bilateral relations to the weights of the first country\n",
    "        self.weights = [[0.5 for i in range(7)] for j in range(2)]\n",
    "\n",
    "        self.loc = \"Weights\\\\\" + \"\".join(self.countries) + \".bin\"\n",
    "        self.path = Path(self.loc)\n",
    "\n",
    "        if self.path.is_file():\n",
    "            with open(self.loc, \"rb\") as f:\n",
    "                self.weights = pickle.load(f)\n",
    "        else:\n",
    "            self.weights = {\"domestic\": [[0.5 for i in range(7)] for j in range(2)]}\n",
    "            with open(self.loc, \"wb\") as f:\n",
    "                pickle.dump(self.weights, f)"
   ]
  },
  {
   "cell_type": "markdown",
   "metadata": {},
   "source": [
    "Order of weights:\n",
    "1. Domestic: 7 x 7 where 1st index is start and 2nd index is end. Order is p1, p2, p3, p4, e1, e2, e3\n",
    "2. < Country name >: 7 x 9  each index in the 2 d matrix gives a connection and the direction is from this country to the country it is connected to (the other direction is accessible from the other country)\n",
    "    **The last two in the 9 are the bilateral nodes.**\n",
    "3. Bilateral comes at the end as a set of 2: order is Political = 0 then Economic = 1"
   ]
  },
  {
   "cell_type": "code",
   "execution_count": 58,
   "metadata": {},
   "outputs": [],
   "source": [
    "# Create a class for the different countries in the graph\n",
    "\n",
    "class domestic:\n",
    "    def __init__(self, name):\n",
    "        self.name = name\n",
    "        self.nodes = []\n",
    "\n",
    "        # Political\n",
    "        for i in range(1, 5):\n",
    "            self.nodes.append(node(self.name, classes(\"p\" + str(i))))\n",
    "\n",
    "        # Economic\n",
    "        for i in range(1, 4):\n",
    "            self.nodes.append(node(self.name, classes(\"e\" + str(i))))\n",
    "\n",
    "        self.loc = \"Weights\\\\\" + self.name + \".bin\"\n",
    "        self.path = Path(self.loc)\n",
    "\n",
    "        if self.path.is_file():\n",
    "            with open(self.loc, \"rb\") as f:\n",
    "                self.weights = pickle.load(f)\n",
    "        else:\n",
    "            self.weights = {\"domestic\": [[0.5 for i in range(7)] for j in range(7)]}\n",
    "            with open(self.loc, \"wb\") as f:\n",
    "                pickle.dump(self.weights, f)\n",
    "\n",
    "    def AddLink(self, country):\n",
    "        if self.name == country.name:\n",
    "            return None\n",
    "\n",
    "        self.weights[country.name] = [[0.5 for i in range(9)] for j in range(7)]\n",
    "        \n",
    "        # This function only creates weights in one direction"
   ]
  },
  {
   "cell_type": "code",
   "execution_count": 65,
   "metadata": {},
   "outputs": [],
   "source": [
    "countries = []\n",
    "\n",
    "for name in NamedCountries:\n",
    "    countries.append(domestic(name))"
   ]
  },
  {
   "cell_type": "code",
   "execution_count": 69,
   "metadata": {},
   "outputs": [
    {
     "data": {
      "text/plain": [
       "{'domestic': [[0.5, 0.5, 0.5, 0.5, 0.5, 0.5, 0.5],\n",
       "  [0.5, 0.5, 0.5, 0.5, 0.5, 0.5, 0.5],\n",
       "  [0.5, 0.5, 0.5, 0.5, 0.5, 0.5, 0.5],\n",
       "  [0.5, 0.5, 0.5, 0.5, 0.5, 0.5, 0.5],\n",
       "  [0.5, 0.5, 0.5, 0.5, 0.5, 0.5, 0.5],\n",
       "  [0.5, 0.5, 0.5, 0.5, 0.5, 0.5, 0.5],\n",
       "  [0.5, 0.5, 0.5, 0.5, 0.5, 0.5, 0.5]]}"
      ]
     },
     "execution_count": 69,
     "metadata": {},
     "output_type": "execute_result"
    }
   ],
   "source": [
    "countries[3].weights"
   ]
  },
  {
   "cell_type": "markdown",
   "metadata": {},
   "source": [
    "## File handeling demonstrations"
   ]
  },
  {
   "cell_type": "code",
   "execution_count": 34,
   "metadata": {},
   "outputs": [],
   "source": [
    "with open(\"Weights\\\\bin.bin\", \"wb\") as f:\n",
    "    a = {\"domestic\": [[1,3], [4,5]],\n",
    "         \"international\": [2,3]}\n",
    "    pickle.dump(a, f)"
   ]
  },
  {
   "cell_type": "code",
   "execution_count": 35,
   "metadata": {},
   "outputs": [
    {
     "name": "stdout",
     "output_type": "stream",
     "text": [
      "{'domestic': [[1, 3], [4, 5]], 'international': [2, 3]}\n"
     ]
    }
   ],
   "source": [
    "with open(\"Weights\\\\bin.bin\", \"rb\") as f:\n",
    "    vals = pickle.load(f)\n",
    "    print(vals)"
   ]
  },
  {
   "cell_type": "code",
   "execution_count": 39,
   "metadata": {},
   "outputs": [
    {
     "name": "stdout",
     "output_type": "stream",
     "text": [
      "False\n"
     ]
    }
   ],
   "source": [
    "path = Path(\"Weights\\\\canada.bin\")\n",
    "print(path.is_file())"
   ]
  },
  {
   "cell_type": "code",
   "execution_count": null,
   "metadata": {},
   "outputs": [],
   "source": []
  }
 ],
 "metadata": {
  "kernelspec": {
   "display_name": "Python 3",
   "language": "python",
   "name": "python3"
  },
  "language_info": {
   "codemirror_mode": {
    "name": "ipython",
    "version": 3
   },
   "file_extension": ".py",
   "mimetype": "text/x-python",
   "name": "python",
   "nbconvert_exporter": "python",
   "pygments_lexer": "ipython3",
   "version": "3.11.4"
  }
 },
 "nbformat": 4,
 "nbformat_minor": 2
}
